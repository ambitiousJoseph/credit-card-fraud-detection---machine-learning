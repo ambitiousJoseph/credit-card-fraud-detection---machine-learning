{
 "cells": [
  {
   "cell_type": "code",
   "execution_count": 2,
   "metadata": {
    "id": "9On36aCx5CnF"
   },
   "outputs": [],
   "source": []
  },
  {
   "cell_type": "markdown",
   "metadata": {
    "id": "vwjB9qhgEORV"
   },
   "source": [
    "## Modules import"
   ]
  },
  {
   "cell_type": "code",
   "execution_count": 14,
   "metadata": {
    "id": "_4NMJBPIEURc"
   },
   "outputs": [],
   "source": [
    "import pandas as pd\n",
    "from sklearn.linear_model import LogisticRegression\n",
    "from sklearn.tree import DecisionTreeClassifier\n",
    "from sklearn.svm import SVC\n",
    "\n",
    "from sklearn.model_selection import train_test_split"
   ]
  },
  {
   "cell_type": "markdown",
   "metadata": {
    "id": "NefryyLZEqa_"
   },
   "source": [
    "## Data"
   ]
  },
  {
   "cell_type": "code",
   "execution_count": 13,
   "metadata": {
    "id": "wEHyGl_r6-GM"
   },
   "outputs": [],
   "source": [
    "# Full credit card data is available at https://www.kaggle.com/mlg-ulb/creditcardfraud\n",
    "\n",
    "\n",
    "# I extracted the data used in this colab from that dataset\n",
    "\n",
    "\n",
    "data = pd.read_csv(\"https://raw.githubusercontent.com/ambitiousJoseph/credit-card-fraud-detection---machine-learning/main/credit_card_fraud_detection_balanced_data.csv\")"
   ]
  },
  {
   "cell_type": "markdown",
   "metadata": {
    "id": "bK8Ap2bFEvmo"
   },
   "source": [
    "## Split data"
   ]
  },
  {
   "cell_type": "code",
   "execution_count": 11,
   "metadata": {
    "id": "zs4viF8m6-1B"
   },
   "outputs": [],
   "source": [
    "# Split data into training and test data\n",
    "\n",
    "X = data.iloc[:, :-1]\n",
    "y = data.loc[:,\"Class\"]\n",
    "X_train, X_test, y_train, y_test = train_test_split(X, y, random_state=32, test_size=.2)"
   ]
  },
  {
   "cell_type": "markdown",
   "metadata": {
    "id": "j-tcOBozEz6J"
   },
   "source": [
    "## Train models"
   ]
  },
  {
   "cell_type": "code",
   "execution_count": 12,
   "metadata": {
    "colab": {
     "base_uri": "https://localhost:8080/"
    },
    "id": "Q99-ANiBASKr",
    "outputId": "0caff76b-ea5c-4cf0-a963-184b313d13f7"
   },
   "outputs": [
    {
     "name": "stdout",
     "output_type": "stream",
     "text": [
      "Model\tpercentage score\n",
      "\n",
      "Model: SVC\t Score: 99.5 %\n",
      "Model: LogisticRegression\t Score: 100.0 %\n",
      "Model: DecisionTreeClassifier\t Score: 100.0 %\n"
     ]
    },
    {
     "name": "stderr",
     "output_type": "stream",
     "text": [
      "/usr/local/lib/python3.7/dist-packages/sklearn/linear_model/_logistic.py:940: ConvergenceWarning: lbfgs failed to converge (status=1):\n",
      "STOP: TOTAL NO. of ITERATIONS REACHED LIMIT.\n",
      "\n",
      "Increase the number of iterations (max_iter) or scale the data as shown in:\n",
      "    https://scikit-learn.org/stable/modules/preprocessing.html\n",
      "Please also refer to the documentation for alternative solver options:\n",
      "    https://scikit-learn.org/stable/modules/linear_model.html#logistic-regression\n",
      "  extra_warning_msg=_LOGISTIC_SOLVER_CONVERGENCE_MSG)\n"
     ]
    }
   ],
   "source": [
    "# Choose the best model\n",
    "\n",
    "models = [SVC(gamma='scale'), LogisticRegression(solver=\"lbfgs\"), DecisionTreeClassifier()]\n",
    "model_name = [\"SVC\", \"LogisticRegression\", \"DecisionTreeClassifier\"]\n",
    "\n",
    "\n",
    "print(\"Model\\tpercentage score\\n\")\n",
    "for n in range(0, 3):\n",
    "    model = models[n]\n",
    "    model.fit(X_train, y_train)\n",
    "    print(f\"Model: {model_name[n]}\\t Score: {round(model.score(X_test, y_test) * 100, 1)} %\")\n",
    "    "
   ]
  },
  {
   "cell_type": "code",
   "execution_count": null,
   "metadata": {
    "id": "l5lZJMcRCVmo"
   },
   "outputs": [],
   "source": []
  },
  {
   "cell_type": "markdown",
   "metadata": {
    "id": "L0GBR-CTDY0D"
   },
   "source": [
    "**All classification model are having a perfect score of 100% apart from LogisticRegression which is .5% from being perfect**\n",
    "\n",
    "[Google Colab Notebook](https://colab.research.google.com/drive/12x8Lkl2u-U-aqE6GJ9_ESvz72vwZG_MF?usp=sharing)"
   ]
  },
  {
   "cell_type": "code",
   "execution_count": null,
   "metadata": {
    "id": "nIXd3XSyD1f_"
   },
   "outputs": [],
   "source": []
  }
 ],
 "metadata": {
  "colab": {
   "collapsed_sections": [],
   "name": "Credit Card Fraud Detection.ipynb",
   "provenance": [],
   "toc_visible": true
  },
  "kernelspec": {
   "display_name": "Python 3",
   "language": "python",
   "name": "python3"
  },
  "language_info": {
   "codemirror_mode": {
    "name": "ipython",
    "version": 3
   },
   "file_extension": ".py",
   "mimetype": "text/x-python",
   "name": "python",
   "nbconvert_exporter": "python",
   "pygments_lexer": "ipython3",
   "version": "3.7.1"
  }
 },
 "nbformat": 4,
 "nbformat_minor": 1
}
